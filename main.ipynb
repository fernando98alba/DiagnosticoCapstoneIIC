{
 "cells": [
  {
   "cell_type": "code",
   "execution_count": 1,
   "id": "a07a7d60",
   "metadata": {},
   "outputs": [],
   "source": [
    "import re\n",
    "import json\n",
    "import pandas as pd\n",
    "from collections import defaultdict\n",
    "import datetime\n",
    "from toptentweets import *\n",
    "from toptenusers import *"
   ]
  },
  {
   "cell_type": "code",
   "execution_count": 3,
   "id": "4a11f667",
   "metadata": {},
   "outputs": [],
   "source": [
    "file = \"dataset.json\"\n",
    "#df = feature1(file)\n",
    "#print(\"Los top 10 tweets más retweeted:\")\n",
    "#for index in df.index:\n",
    " #   print(df[\"content\"][index], \"\\n\")\n",
    "        "
   ]
  },
  {
   "cell_type": "code",
   "execution_count": 8,
   "id": "9c6da12e",
   "metadata": {},
   "outputs": [
    {
     "name": "stdout",
     "output_type": "stream",
     "text": [
      "Los top 10 usuarios en función a la cantidad de tweets que emitieron:\n",
      "harjot_tweeting \n",
      "\n",
      "tasveersandhu \n",
      "\n",
      "shells_n_petals \n",
      "\n",
      "jot__b \n",
      "\n",
      "rebelpacifist \n",
      "\n",
      "rumsomal \n",
      "\n",
      "Iamjazzie96 \n",
      "\n",
      "Jass_k_G \n",
      "\n",
      "DigitalKisanBot \n",
      "\n",
      "z_khalique007 \n",
      "\n"
     ]
    }
   ],
   "source": [
    "df = feature2(file)\n",
    "print(\"Los top 10 usuarios en función a la cantidad de tweets que emitieron:\")\n",
    "for index in df.index:\n",
    "    print(index)"
   ]
  },
  {
   "cell_type": "code",
   "execution_count": null,
   "id": "06c98c51",
   "metadata": {},
   "outputs": [],
   "source": []
  }
 ],
 "metadata": {
  "kernelspec": {
   "display_name": "Python 3 (ipykernel)",
   "language": "python",
   "name": "python3"
  },
  "language_info": {
   "codemirror_mode": {
    "name": "ipython",
    "version": 3
   },
   "file_extension": ".py",
   "mimetype": "text/x-python",
   "name": "python",
   "nbconvert_exporter": "python",
   "pygments_lexer": "ipython3",
   "version": "3.9.5"
  }
 },
 "nbformat": 4,
 "nbformat_minor": 5
}
